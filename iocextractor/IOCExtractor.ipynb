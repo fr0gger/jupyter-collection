{
 "cells": [
  {
   "cell_type": "markdown",
   "id": "897d88c3-c179-4ada-8d8b-a42079cb1e87",
   "metadata": {},
   "source": [
    "# Extracting Indicators of Compromise from Threat Reports using MSTICpy"
   ]
  },
  {
   "cell_type": "markdown",
   "id": "d1fcffc9-c6ad-4774-a58f-c409ee0b65ad",
   "metadata": {},
   "source": [
    "Many threat intelligence reports are published every week and contain lots of useful content to improve the security in place. The Indicator of Compromise are one of the most important actionable data to extract from a threat report. Although the IOCs can be found most of the time at the end of the blogs or in complementary documents, it can sometimes be a bit long to copy and paste them manually. Several IOC extractors are already available on github. This notebook is a small POC to show how to use the IOCextractor module from the [MSTICpy](https://msticpy.readthedocs.io/en/latest/data_analysis/IoCExtract.html) library to retrieve IOCs from a URL. The code can be reused to extract the ioc from any source."
   ]
  },
  {
   "cell_type": "markdown",
   "id": "49d605d7-28cc-48f9-be35-05d64044661d",
   "metadata": {},
   "source": [
    "## Limitation\n",
    "As this is an early stage of development, IOCs extracted from an URL may be false positives because the extractor does not differentiate between a malicious URL and a legitimate one. To overcome this I added a whitelist which will be used to remove any false positives but of course depending on the URL you might have more to filter out.\n",
    "\n",
    "## Features Improvement\n",
    "* Improving the extraction\n",
    "* Reduce false positives\n",
    "* extracting from multiple sources (PDF, text...)\n",
    "* Adding additional regex \n",
    "* Adding multiple export"
   ]
  },
  {
   "cell_type": "markdown",
   "id": "949e9f5f-935c-4733-a60a-410ff1d0c1e0",
   "metadata": {},
   "source": [
    "## Code"
   ]
  },
  {
   "cell_type": "code",
   "execution_count": 212,
   "id": "3ffe474a-e0a9-4030-b807-50a609ef23fa",
   "metadata": {},
   "outputs": [],
   "source": [
    "# Imports and configuration\n",
    "import os\n",
    "import glob\n",
    "import requests\n",
    "import json\n",
    "import re\n",
    "import ipywidgets as widgets\n",
    "import pandas as pd\n",
    "from ipywidgets import Button, Layout, Checkbox\n",
    "from IPython.display import display, HTML\n",
    "from bs4 import BeautifulSoup\n",
    "from msticpy.sectools import IoCExtract"
   ]
  },
  {
   "cell_type": "code",
   "execution_count": 213,
   "id": "8335e453-4593-4c7a-aa44-1961d361513d",
   "metadata": {},
   "outputs": [],
   "source": [
    "# Loading Whitelists\n",
    "searchdir = \"whitelists/whitelist_*.txt\"\n",
    "fpaths = glob.glob(searchdir)\n",
    "\n",
    "patterns = []\n",
    "\n",
    "# compiling the whitelist in one list\n",
    "for fpath in fpaths:\n",
    "    t = os.path.splitext(fpath)[0].split('_',1)[1]\n",
    "    patterns += [line.strip() for line in open(fpath)]"
   ]
  },
  {
   "cell_type": "code",
   "execution_count": 215,
   "id": "5c537c14-c003-4c8a-8a7f-4c55380aa3cc",
   "metadata": {},
   "outputs": [
    {
     "data": {
      "application/vnd.jupyter.widget-view+json": {
       "model_id": "17074c5f4ebb40fa92e7ddc379c00175",
       "version_major": 2,
       "version_minor": 0
      },
      "text/plain": [
       "Text(value='', description='Extract IOCs:', layout=Layout(height='40px', width='90%'), placeholder='Enter the …"
      ]
     },
     "metadata": {},
     "output_type": "display_data"
    },
    {
     "data": {
      "application/vnd.jupyter.widget-view+json": {
       "model_id": "ba9198ad2dcf4afdbdc2fe0f6eef2924",
       "version_major": 2,
       "version_minor": 0
      },
      "text/plain": [
       "Checkbox(value=False, description='Json')"
      ]
     },
     "metadata": {},
     "output_type": "display_data"
    },
    {
     "data": {
      "application/vnd.jupyter.widget-view+json": {
       "model_id": "6136246e05104d35b73b583463513a7a",
       "version_major": 2,
       "version_minor": 0
      },
      "text/plain": [
       "Checkbox(value=False, description='Table')"
      ]
     },
     "metadata": {},
     "output_type": "display_data"
    },
    {
     "data": {
      "application/vnd.jupyter.widget-view+json": {
       "model_id": "8b33e586fbaa4d4e9c4ff9ff0f8e59b9",
       "version_major": 2,
       "version_minor": 0
      },
      "text/plain": [
       "HBox(children=(Button(button_style='primary', description='Extract IOCs', icon='check', layout=Layout(flex='3 …"
      ]
     },
     "metadata": {},
     "output_type": "display_data"
    },
    {
     "data": {
      "application/vnd.jupyter.widget-view+json": {
       "model_id": "ef18742a164e4afda60e5d05b90c11c1",
       "version_major": 2,
       "version_minor": 0
      },
      "text/plain": [
       "Output()"
      ]
     },
     "metadata": {},
     "output_type": "display_data"
    }
   ],
   "source": [
    "# Initiate the IOC extractor\n",
    "ioc_extractor = IoCExtract()\n",
    "\n",
    "# Adding btc regex\n",
    "ioc_extractor.add_ioc_type(ioc_type='btc', ioc_regex='^(?:[13]{1}[a-km-zA-HJ-NP-Z1-9]{26,33}|bc1[a-z0-9]{39,59})$')\n",
    "\n",
    "# Configure widget\n",
    "keyword = widgets.Text(\n",
    "    value = \"\",\n",
    "    placeholder = 'Enter the URL',\n",
    "    description = 'Extract IOCs:',\n",
    "    layout = Layout(width='90%', height='40px'),\n",
    "    disabled = False\n",
    ")\n",
    "display(keyword)\n",
    "\n",
    "#Configure checkbox\n",
    "checkbox_json = widgets.Checkbox(value = False, description=\"Json\")\n",
    "display(checkbox_json)\n",
    "\n",
    "checkbox_table = widgets.Checkbox(value = False, description=\"Table\")\n",
    "display(checkbox_table)\n",
    "\n",
    "# Configure click button\n",
    "button = widgets.Button(description = \"Extract IOCs\", display='flex', layout = Layout(width='20%', height='40px', flex='3 1 0%'), icon = 'check', button_style='primary')\n",
    "output = widgets.Output()\n",
    "\n",
    "# Box layout\n",
    "box_layout = widgets.Layout(display = 'flex', flex_flow='column', align_items='center', width='100%')\n",
    "box = widgets.HBox(children = [button], layout = box_layout)\n",
    "display(box)\n",
    "\n",
    "# Searching for the input url\n",
    "@output.capture()\n",
    "def userInput(b):\n",
    "    try:\n",
    "        # Request to the url\n",
    "        headers = {'User-Agent': 'Mozilla/5.0 (Macintosh; Intel Mac OS X 10_11_5) AppleWebKit/537.36 (KHTML, like Gecko) Chrome/50.0.2661.102 Safari/537.36'}\n",
    "        result = requests.get(keyword.value, headers=headers)\n",
    "        soup = BeautifulSoup(result.text, 'html.parser')\n",
    "        \n",
    "        print(\"[+] Extracting IOC from: \" + keyword.value)\n",
    "        iocs_found = ioc_extractor.extract(str(soup.get_text()))\n",
    "\n",
    "        if iocs_found:\n",
    "            #removing element present into the whitelists\n",
    "            for k, v in iocs_found.items():\n",
    "                for i in iocs_found[k].copy():\n",
    "                    for w in patterns:\n",
    "                        w = re.compile(w)\n",
    "                        test = re.findall(w, i)\n",
    "                        if test:\n",
    "                            try:\n",
    "                               iocs_found[k].remove(str(i))\n",
    "                            except:\n",
    "                               pass\n",
    "\n",
    "            display(HTML('<h4> \\nPotential IoCs found: </h4>'))\n",
    "            \n",
    "            # Get JSON Result\n",
    "            if checkbox_json.value is True:\n",
    "                ioc = {}\n",
    "                for k, v in iocs_found.items():\n",
    "                    value = []\n",
    "                    for i in iocs_found[k].copy():\n",
    "                        value.append(i)\n",
    "                    ioc[k] = value\n",
    "\n",
    "                jsonioc = json.dumps(ioc, indent=4, sort_keys=True)\n",
    "                print(jsonioc)\n",
    "                \n",
    "            # Get table Result\n",
    "            if checkbox_table.value is True:\n",
    "                ioctable = pd.DataFrame([])\n",
    "                \n",
    "                for k, v in iocs_found.items():\n",
    "                    for i in iocs_found[k].copy():\n",
    "                        ioc = {}\n",
    "                        ioc[k] = i\n",
    "                        data = pd.DataFrame(ioc.items())\n",
    "                        ioctable = ioctable._append(data)\n",
    "                        \n",
    "                display(ioctable)\n",
    "    \n",
    "        else:\n",
    "            print(\"no IOC found!\")\n",
    "        \n",
    "    except requests.exceptions.RequestException as e:\n",
    "        print(e)\n",
    "    except(AttributeError, KeyError) as er:\n",
    "        print(er)\n",
    "    \n",
    "# get the input url\n",
    "button.on_click(userInput)\n",
    "display(output)"
   ]
  },
  {
   "cell_type": "markdown",
   "id": "c4e36a87-54c8-4319-8602-5af57114acd1",
   "metadata": {},
   "source": [
    "# Contact\n",
    "If you like this content, send a hug on Twitter for more stuff like this!\n",
    "\n",
    "<a href=\"https://twitter.com/fr0gger_?ref_src=twsrc%5Etfw\" class=\"twitter-follow-button\" data-show-count=\"false\">Follow @fr0gger_</a><script async src=\"https://platform.twitter.com/widgets.js\" charset=\"utf-8\"></script>"
   ]
  }
 ],
 "metadata": {
  "kernelspec": {
   "display_name": "Python 3 (ipykernel)",
   "language": "python",
   "name": "python3"
  },
  "language_info": {
   "codemirror_mode": {
    "name": "ipython",
    "version": 3
   },
   "file_extension": ".py",
   "mimetype": "text/x-python",
   "name": "python",
   "nbconvert_exporter": "python",
   "pygments_lexer": "ipython3",
   "version": "3.9.8"
  }
 },
 "nbformat": 4,
 "nbformat_minor": 5
}
